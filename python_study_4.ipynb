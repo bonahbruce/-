{
 "cells": [
  {
   "cell_type": "markdown",
   "metadata": {},
   "source": [
    "직관력을 높여야한다....!!!!!!\n",
    "\n",
    "중요한 요소는 3가지\n",
    "\n",
    "변수:  1. 무엇을 담을 것인가 : 문자/숫자/Boolean 왜 나눌까? Memory때문에\n",
    "       2. 어떻게 담을 것인가 list(numpy의 array), dict, tuple, DataFrame\n",
    "\n",
    "함수: 입력, 수식, 출력\n",
    "input과 output에 대한 그림을 그리는게 중요하다.\n",
    "\n",
    "제어문\n",
    "\n",
    "\n",
    "\n"
   ]
  },
  {
   "cell_type": "code",
   "execution_count": 4,
   "metadata": {},
   "outputs": [],
   "source": [
    "a = 5\n",
    "b = 6"
   ]
  },
  {
   "cell_type": "code",
   "execution_count": 5,
   "metadata": {},
   "outputs": [
    {
     "data": {
      "text/plain": [
       "11"
      ]
     },
     "execution_count": 5,
     "metadata": {},
     "output_type": "execute_result"
    }
   ],
   "source": [
    "a+b"
   ]
  },
  {
   "cell_type": "code",
   "execution_count": 10,
   "metadata": {},
   "outputs": [
    {
     "name": "stdout",
     "output_type": "stream",
     "text": [
      "10\n"
     ]
    }
   ],
   "source": [
    "a = int(input())"
   ]
  },
  {
   "cell_type": "code",
   "execution_count": 11,
   "metadata": {},
   "outputs": [
    {
     "data": {
      "text/plain": [
       "16"
      ]
     },
     "execution_count": 11,
     "metadata": {},
     "output_type": "execute_result"
    }
   ],
   "source": [
    "a+b"
   ]
  },
  {
   "cell_type": "code",
   "execution_count": 8,
   "metadata": {},
   "outputs": [
    {
     "data": {
      "text/plain": [
       "'1'"
      ]
     },
     "execution_count": 8,
     "metadata": {},
     "output_type": "execute_result"
    }
   ],
   "source": [
    "a"
   ]
  },
  {
   "cell_type": "code",
   "execution_count": 9,
   "metadata": {},
   "outputs": [
    {
     "data": {
      "text/plain": [
       "7"
      ]
     },
     "execution_count": 9,
     "metadata": {},
     "output_type": "execute_result"
    }
   ],
   "source": [
    "int(a) + b"
   ]
  },
  {
   "cell_type": "code",
   "execution_count": 13,
   "metadata": {},
   "outputs": [
    {
     "name": "stdout",
     "output_type": "stream",
     "text": [
      "3\n",
      "a는 5보다 크지 않습니다.\n"
     ]
    }
   ],
   "source": [
    "a = int(input())\n",
    "if a > 5:\n",
    "    print('a는 5보다 큽니다')\n",
    "else :\n",
    "    print('a는 5보다 크지 않습니다.')"
   ]
  },
  {
   "cell_type": "code",
   "execution_count": 16,
   "metadata": {},
   "outputs": [
    {
     "name": "stdout",
     "output_type": "stream",
     "text": [
      "10\n",
      "1 번째 반복문이 실행중입니다.\n",
      "2 번째 반복문이 실행중입니다.\n",
      "3 번째 반복문이 실행중입니다.\n",
      "4 번째 반복문이 실행중입니다.\n",
      "5 번째 반복문이 실행중입니다.\n",
      "6 번째 반복문이 실행중입니다.\n",
      "7 번째 반복문이 실행중입니다.\n",
      "8 번째 반복문이 실행중입니다.\n",
      "9 번째 반복문이 실행중입니다.\n",
      "10 번째 반복문이 실행중입니다.\n"
     ]
    }
   ],
   "source": [
    "b = int(input())\n",
    "for i in range(1,b+1):\n",
    "    print(i,\"번째 반복문이 실행중입니다.\")"
   ]
  },
  {
   "cell_type": "code",
   "execution_count": 21,
   "metadata": {},
   "outputs": [
    {
     "name": "stdout",
     "output_type": "stream",
     "text": [
      "년도를 입력해주세요800\n",
      "윤년입니다.\n"
     ]
    }
   ],
   "source": [
    "a = int(input('년도를 입력해주세요'))\n",
    "\n",
    "if a % 4 ==0 & a % 100 !=0:\n",
    "    print('윤년입니다.')\n",
    "elif a % 400 == 0:\n",
    "    print('윤년입니다.')\n",
    "else :\n",
    "    print('윤년아닙니다.')"
   ]
  },
  {
   "cell_type": "code",
   "execution_count": 33,
   "metadata": {},
   "outputs": [
    {
     "name": "stdout",
     "output_type": "stream",
     "text": [
      "숫자를 입력하시오5\n",
      "    o\n",
      "   oo\n",
      "  ooo\n",
      " oooo\n",
      "ooooo\n"
     ]
    }
   ],
   "source": [
    "a = int(input('숫자를 입력하시오'))\n",
    "for i in range(1,a+1):\n",
    "    print(\" \"* (a-i) + 'o'*i)"
   ]
  },
  {
   "cell_type": "code",
   "execution_count": 38,
   "metadata": {},
   "outputs": [
    {
     "name": "stdout",
     "output_type": "stream",
     "text": [
      "숫자를 입력하시오5\n",
      "    o\n",
      "   ooo\n",
      "  ooooo\n",
      " ooooooo\n",
      "ooooooooo\n"
     ]
    }
   ],
   "source": [
    "a = int(input('숫자를 입력하시오'))\n",
    "for i in range(1,a+1):\n",
    "    print(' ' * (a-i) + 'o'*(2*i-1))"
   ]
  },
  {
   "cell_type": "code",
   "execution_count": 53,
   "metadata": {},
   "outputs": [
    {
     "name": "stdout",
     "output_type": "stream",
     "text": [
      "1 * 1 = 1\t1 * 2 = 2\t1 * 3 = 3\t\n",
      "1 * 4 = 4\t1 * 5 = 5\t1 * 6 = 6\t\n",
      "1 * 7 = 7\t1 * 8 = 8\t1 * 9 = 9\t\n",
      "========================================\n",
      "2 * 1 = 2\t2 * 2 = 4\t2 * 3 = 6\t\n",
      "2 * 4 = 8\t2 * 5 = 10\t2 * 6 = 12\t\n",
      "2 * 7 = 14\t2 * 8 = 16\t2 * 9 = 18\t\n",
      "========================================\n",
      "3 * 1 = 3\t3 * 2 = 6\t3 * 3 = 9\t\n",
      "3 * 4 = 12\t3 * 5 = 15\t3 * 6 = 18\t\n",
      "3 * 7 = 21\t3 * 8 = 24\t3 * 9 = 27\t\n",
      "========================================\n",
      "4 * 1 = 4\t4 * 2 = 8\t4 * 3 = 12\t\n",
      "4 * 4 = 16\t4 * 5 = 20\t4 * 6 = 24\t\n",
      "4 * 7 = 28\t4 * 8 = 32\t4 * 9 = 36\t\n",
      "========================================\n",
      "5 * 1 = 5\t5 * 2 = 10\t5 * 3 = 15\t\n",
      "5 * 4 = 20\t5 * 5 = 25\t5 * 6 = 30\t\n",
      "5 * 7 = 35\t5 * 8 = 40\t5 * 9 = 45\t\n",
      "========================================\n",
      "6 * 1 = 6\t6 * 2 = 12\t6 * 3 = 18\t\n",
      "6 * 4 = 24\t6 * 5 = 30\t6 * 6 = 36\t\n",
      "6 * 7 = 42\t6 * 8 = 48\t6 * 9 = 54\t\n",
      "========================================\n",
      "7 * 1 = 7\t7 * 2 = 14\t7 * 3 = 21\t\n",
      "7 * 4 = 28\t7 * 5 = 35\t7 * 6 = 42\t\n",
      "7 * 7 = 49\t7 * 8 = 56\t7 * 9 = 63\t\n",
      "========================================\n",
      "8 * 1 = 8\t8 * 2 = 16\t8 * 3 = 24\t\n",
      "8 * 4 = 32\t8 * 5 = 40\t8 * 6 = 48\t\n",
      "8 * 7 = 56\t8 * 8 = 64\t8 * 9 = 72\t\n",
      "========================================\n",
      "9 * 1 = 9\t9 * 2 = 18\t9 * 3 = 27\t\n",
      "9 * 4 = 36\t9 * 5 = 45\t9 * 6 = 54\t\n",
      "9 * 7 = 63\t9 * 8 = 72\t9 * 9 = 81\t\n",
      "========================================\n"
     ]
    }
   ],
   "source": [
    "for i in range(1,10):\n",
    "    for j in range(1,10):\n",
    "        print(i, \"*\",j,\"=\",i*j, end = '\\t')\n",
    "        if j%3==0:\n",
    "            print()\n",
    "    print('='*40)"
   ]
  },
  {
   "cell_type": "markdown",
   "metadata": {},
   "source": [
    "박사님 풀이"
   ]
  },
  {
   "cell_type": "code",
   "execution_count": 37,
   "metadata": {},
   "outputs": [
    {
     "name": "stdout",
     "output_type": "stream",
     "text": [
      "200\n",
      "윤년이 아닙니다.\n"
     ]
    }
   ],
   "source": [
    "year = int(input())\n",
    "if ((year%4==0) & (year %100 !=0))|(year%400==0):\n",
    "    print('윤년입니다')\n",
    "else:\n",
    "    print('윤년이 아닙니다.')"
   ]
  },
  {
   "cell_type": "code",
   "execution_count": 39,
   "metadata": {},
   "outputs": [
    {
     "name": "stdout",
     "output_type": "stream",
     "text": [
      "숫자를 입력하시오5\n",
      "    *\n",
      "   **\n",
      "  ***\n",
      " ****\n",
      "*****\n"
     ]
    }
   ],
   "source": [
    "n = int(input('숫자를 입력하시오'))\n",
    "for i in range(1, n+1):\n",
    "    print(' '* (n-i) + '*'*i)"
   ]
  },
  {
   "cell_type": "code",
   "execution_count": null,
   "metadata": {},
   "outputs": [],
   "source": []
  }
 ],
 "metadata": {
  "kernelspec": {
   "display_name": "Python 3",
   "language": "python",
   "name": "python3"
  },
  "language_info": {
   "codemirror_mode": {
    "name": "ipython",
    "version": 3
   },
   "file_extension": ".py",
   "mimetype": "text/x-python",
   "name": "python",
   "nbconvert_exporter": "python",
   "pygments_lexer": "ipython3",
   "version": "3.7.3"
  }
 },
 "nbformat": 4,
 "nbformat_minor": 2
}
